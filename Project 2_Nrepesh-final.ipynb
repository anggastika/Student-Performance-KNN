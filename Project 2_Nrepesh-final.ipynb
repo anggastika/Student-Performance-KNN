{
 "cells": [
  {
   "cell_type": "markdown",
   "metadata": {},
   "source": [
    "# Student Performance Classifier (Project 2)"
   ]
  },
  {
   "cell_type": "markdown",
   "metadata": {},
   "source": [
    "##### K-Nearest Neighbors\n",
    "\n",
    "\n",
    "##### Created piepelines to scale data and test optimal k_neighbors and the distance metrics. \n",
    "\n",
    "-Nrepesh Joshi"
   ]
  },
  {
   "cell_type": "markdown",
   "metadata": {},
   "source": [
    "• Find the “optimal” number of neighbors to use. <br>\n",
    "• Also, check if the distance metric is important. Do this all using the L1 norm, then do it using the usual L2 norm, then do it using the L∞ norm. See if the optimal k significantly differs between the norms.\n"
   ]
  },
  {
   "cell_type": "markdown",
   "metadata": {},
   "source": [
    "•\tL1 norm (Manhattan):\t|| (x1,y1), (x2,y2) ||1\t= |x1 – x2| + |y1 – y2|<br>\n",
    "•\tL2 norm (Euclidean):\t|| (x1,y1), (x2,y2) ||2 = sqrt( (x1 – x2)^2 + (y1 – y2)^2 )<br>\n",
    "•\tL∞ norm (Chebyshev):\t|| (x1,y1), (x2,y2) ||∞\t= max{ (x1 – x2), (y1 – y2) }<br>\n"
   ]
  },
  {
   "cell_type": "markdown",
   "metadata": {},
   "source": [
    "### Data Set Information:\n",
    "\n",
    "This data approach student achievement in secondary education of two Portuguese schools. The data attributes include student grades, demographic, social and school related features) and it was collected by using school reports and questionnaires. Two datasets are provided regarding the performance in two distinct subjects: Mathematics (mat) and Portuguese language (por). In [Cortez and Silva, 2008], the two datasets were modeled under binary/five-level classification and regression tasks. Important note: the target attribute G3 has a strong correlation with attributes G2 and G1. This occurs because G3 is the final year grade (issued at the 3rd period), while G1 and G2 correspond to the 1st and 2nd period grades. It is more difficult to predict G3 without G2 and G1, but such prediction is much more useful (see paper source for more details).\n",
    "\n",
    "P. Cortez and A. Silva. Using Data Mining to Predict Secondary School Student Performance. In A. Brito and J. Teixeira Eds., Proceedings of 5th FUture BUsiness TEChnology Conference (FUBUTEC 2008) pp. 5-12, Porto, Portugal, April, 2008, EUROSIS, ISBN 978-9077381-39-7.\n",
    "\n",
    "We will train a model and classify new data(Bob.csv).\n",
    "\n",
    "Attribute Information:\n",
    "\n",
    "### Attributes for both student-mat.csv (Math course) and student-por.csv (Portuguese language course) datasets:\n",
    "1 school - student's school (binary: 'GP' - Gabriel Pereira or 'MS' - Mousinho da Silveira)<br>\n",
    "2 sex - student's sex (binary: 'F' - female or 'M' - male)<br>\n",
    "3 age - student's age (numeric: from 15 to 22)<br>\n",
    "4 address - student's home address type (binary: 'U' - urban or 'R' - rural)<br>\n",
    "5 famsize - family size (binary: 'LE3' - less or equal to 3 or 'GT3' - greater than 3)<br>\n",
    "6 Pstatus - parent's cohabitation status (binary: 'T' - living together or 'A' - apart)<br>\n",
    "7 Medu - mother's education (numeric: 0 - none, 1 - primary education (4th grade), 2 â€“ 5th to 9th grade, 3 â€“ secondary \n",
    "education or 4 â€“ higher education)<br>\n",
    "8 Fedu - father's education (numeric: 0 - none, 1 - primary education (4th grade), 2 â€“ 5th to 9th grade, 3 â€“ secondary education or 4 â€“ higher education)<br>\n",
    "9 Mjob - mother's job (nominal: 'teacher', 'health' care related, civil 'services' (e.g. administrative or police), 'at_home' or 'other')<br>\n",
    "10 Fjob - father's job (nominal: 'teacher', 'health' care related, civil 'services' (e.g. administrative or police), 'at_home' or 'other')<br>\n",
    "11 reason - reason to choose this school (nominal: close to 'home', school 'reputation', 'course' preference or 'other')<br>\n",
    "12 guardian - student's guardian (nominal: 'mother', 'father' or 'other')<br>\n",
    "13 traveltime - home to school travel time (numeric: 1 - <15 min., 2 - 15 to 30 min., 3 - 30 min. to 1 hour, or 4 - >1 hour)<br>\n",
    "14 studytime - weekly study time (numeric: 1 - <2 hours, 2 - 2 to 5 hours, 3 - 5 to 10 hours, or 4 - >10 hours)<br>\n",
    "15 failures - number of past class failures (numeric: n if 1<=n<3, else 4)<br>\n",
    "16 schoolsup - extra educational support (binary: yes or no)<br>\n",
    "17 famsup - family educational support (binary: yes or no)<br>\n",
    "18 paid - extra paid classes within the course subject (Math or Portuguese) (binary: yes or no)<br>\n",
    "19 activities - extra-curricular activities (binary: yes or no)<br>\n",
    "20 nursery - attended nursery school (binary: yes or no)<br>\n",
    "21 higher - wants to take higher education (binary: yes or no)<br>\n",
    "22 internet - Internet access at home (binary: yes or no)<br>\n",
    "23 romantic - with a romantic relationship (binary: yes or no)<br>\n",
    "24 famrel - quality of family relationships (numeric: from 1 - very bad to 5 - excellent)<br>\n",
    "25 freetime - free time after school (numeric: from 1 - very low to 5 - very high)<br>\n",
    "26 goout - going out with friends (numeric: from 1 - very low to 5 - very high)<br>\n",
    "27 Dalc - workday alcohol consumption (numeric: from 1 - very low to 5 - very high)<br>\n",
    "28 Walc - weekend alcohol consumption (numeric: from 1 - very low to 5 - very high)<br>\n",
    "29 health - current health status (numeric: from 1 - very bad to 5 - very good)<br>\n",
    "30 absences - number of school absences (numeric: from 0 to 93)<br>\n",
    "\n",
    "##### these grades are related with the course subject, Math or Portuguese:\n",
    "31 G1 - first period grade (numeric: from 0 to 20)<br>\n",
    "31 G2 - second period grade (numeric: from 0 to 20)<br>\n",
    "32 G3 - final grade (numeric: from 0 to 20, output target)\n",
    "\n"
   ]
  },
  {
   "cell_type": "markdown",
   "metadata": {},
   "source": [
    "## Exploratory Data Analysis "
   ]
  },
  {
   "cell_type": "code",
   "execution_count": 3,
   "metadata": {},
   "outputs": [],
   "source": [
    "import pandas as pd\n",
    "import numpy as np\n",
    "import matplotlib.pyplot as plt\n",
    "import seaborn as sns"
   ]
  },
  {
   "cell_type": "code",
   "execution_count": 4,
   "metadata": {},
   "outputs": [
    {
     "name": "stdout",
     "output_type": "stream",
     "text": [
      "<class 'pandas.core.frame.DataFrame'>\n",
      "RangeIndex: 649 entries, 0 to 648\n",
      "Data columns (total 33 columns):\n",
      " #   Column      Non-Null Count  Dtype \n",
      "---  ------      --------------  ----- \n",
      " 0   school      649 non-null    object\n",
      " 1   sex         649 non-null    object\n",
      " 2   age         649 non-null    int64 \n",
      " 3   address     649 non-null    object\n",
      " 4   famsize     649 non-null    object\n",
      " 5   Pstatus     649 non-null    object\n",
      " 6   Medu        649 non-null    int64 \n",
      " 7   Fedu        649 non-null    int64 \n",
      " 8   Mjob        649 non-null    object\n",
      " 9   Fjob        649 non-null    object\n",
      " 10  reason      649 non-null    object\n",
      " 11  guardian    649 non-null    object\n",
      " 12  traveltime  649 non-null    int64 \n",
      " 13  studytime   649 non-null    int64 \n",
      " 14  failures    649 non-null    int64 \n",
      " 15  schoolsup   649 non-null    object\n",
      " 16  famsup      649 non-null    object\n",
      " 17  paid        649 non-null    object\n",
      " 18  activities  649 non-null    object\n",
      " 19  nursery     649 non-null    object\n",
      " 20  higher      649 non-null    object\n",
      " 21  internet    649 non-null    object\n",
      " 22  romantic    649 non-null    object\n",
      " 23  famrel      649 non-null    int64 \n",
      " 24  freetime    649 non-null    int64 \n",
      " 25  goout       649 non-null    int64 \n",
      " 26  Dalc        649 non-null    int64 \n",
      " 27  Walc        649 non-null    int64 \n",
      " 28  health      649 non-null    int64 \n",
      " 29  absences    649 non-null    int64 \n",
      " 30  G1          649 non-null    int64 \n",
      " 31  G2          649 non-null    int64 \n",
      " 32  G3          649 non-null    int64 \n",
      "dtypes: int64(16), object(17)\n",
      "memory usage: 167.4+ KB\n"
     ]
    }
   ],
   "source": [
    "df = pd.read_csv(\"student-por.csv\",sep=';')\n",
    "df.info()"
   ]
  },
  {
   "cell_type": "markdown",
   "metadata": {},
   "source": [
    "### We will convert all the object categorical values to numerical binary values"
   ]
  },
  {
   "cell_type": "markdown",
   "metadata": {},
   "source": [
    "This is possible in this data set because the categorical variables were either binary or nominal. We could encode them using sklearn.preprocessing's LabelEncoder. We do not need to remove any columns and now can proceed with training the KNearestNeighbors model with all numerical values. "
   ]
  },
  {
   "cell_type": "code",
   "execution_count": 5,
   "metadata": {},
   "outputs": [],
   "source": [
    "from sklearn.preprocessing import LabelEncoder\n",
    "lb = LabelEncoder()"
   ]
  },
  {
   "cell_type": "code",
   "execution_count": 6,
   "metadata": {},
   "outputs": [
    {
     "data": {
      "text/html": [
       "<div>\n",
       "<style scoped>\n",
       "    .dataframe tbody tr th:only-of-type {\n",
       "        vertical-align: middle;\n",
       "    }\n",
       "\n",
       "    .dataframe tbody tr th {\n",
       "        vertical-align: top;\n",
       "    }\n",
       "\n",
       "    .dataframe thead th {\n",
       "        text-align: right;\n",
       "    }\n",
       "</style>\n",
       "<table border=\"1\" class=\"dataframe\">\n",
       "  <thead>\n",
       "    <tr style=\"text-align: right;\">\n",
       "      <th></th>\n",
       "      <th>school</th>\n",
       "      <th>sex</th>\n",
       "      <th>address</th>\n",
       "      <th>famsize</th>\n",
       "      <th>Pstatus</th>\n",
       "      <th>Mjob</th>\n",
       "      <th>Fjob</th>\n",
       "      <th>reason</th>\n",
       "      <th>guardian</th>\n",
       "      <th>schoolsup</th>\n",
       "      <th>famsup</th>\n",
       "      <th>paid</th>\n",
       "      <th>activities</th>\n",
       "      <th>nursery</th>\n",
       "      <th>higher</th>\n",
       "      <th>internet</th>\n",
       "      <th>romantic</th>\n",
       "    </tr>\n",
       "  </thead>\n",
       "  <tbody>\n",
       "    <tr>\n",
       "      <th>0</th>\n",
       "      <td>GP</td>\n",
       "      <td>F</td>\n",
       "      <td>U</td>\n",
       "      <td>GT3</td>\n",
       "      <td>A</td>\n",
       "      <td>at_home</td>\n",
       "      <td>teacher</td>\n",
       "      <td>course</td>\n",
       "      <td>mother</td>\n",
       "      <td>yes</td>\n",
       "      <td>no</td>\n",
       "      <td>no</td>\n",
       "      <td>no</td>\n",
       "      <td>yes</td>\n",
       "      <td>yes</td>\n",
       "      <td>no</td>\n",
       "      <td>no</td>\n",
       "    </tr>\n",
       "  </tbody>\n",
       "</table>\n",
       "</div>"
      ],
      "text/plain": [
       "  school sex address famsize Pstatus     Mjob     Fjob  reason guardian  \\\n",
       "0     GP   F       U     GT3       A  at_home  teacher  course   mother   \n",
       "\n",
       "  schoolsup famsup paid activities nursery higher internet romantic  \n",
       "0       yes     no   no         no     yes    yes       no       no  "
      ]
     },
     "execution_count": 6,
     "metadata": {},
     "output_type": "execute_result"
    }
   ],
   "source": [
    "df_change = df.select_dtypes(include=['object'])      # Will include all the categorical columns \n",
    "df_change.head(1)"
   ]
  },
  {
   "cell_type": "code",
   "execution_count": 7,
   "metadata": {},
   "outputs": [],
   "source": [
    "for column in df_change:\n",
    "    df[column] = lb.fit_transform(df[column])"
   ]
  },
  {
   "cell_type": "code",
   "execution_count": 8,
   "metadata": {},
   "outputs": [
    {
     "data": {
      "text/html": [
       "<div>\n",
       "<style scoped>\n",
       "    .dataframe tbody tr th:only-of-type {\n",
       "        vertical-align: middle;\n",
       "    }\n",
       "\n",
       "    .dataframe tbody tr th {\n",
       "        vertical-align: top;\n",
       "    }\n",
       "\n",
       "    .dataframe thead th {\n",
       "        text-align: right;\n",
       "    }\n",
       "</style>\n",
       "<table border=\"1\" class=\"dataframe\">\n",
       "  <thead>\n",
       "    <tr style=\"text-align: right;\">\n",
       "      <th></th>\n",
       "      <th>school</th>\n",
       "      <th>sex</th>\n",
       "      <th>age</th>\n",
       "      <th>address</th>\n",
       "      <th>famsize</th>\n",
       "      <th>Pstatus</th>\n",
       "      <th>Medu</th>\n",
       "      <th>Fedu</th>\n",
       "      <th>Mjob</th>\n",
       "      <th>Fjob</th>\n",
       "      <th>...</th>\n",
       "      <th>internet</th>\n",
       "      <th>romantic</th>\n",
       "      <th>famrel</th>\n",
       "      <th>freetime</th>\n",
       "      <th>goout</th>\n",
       "      <th>Dalc</th>\n",
       "      <th>Walc</th>\n",
       "      <th>health</th>\n",
       "      <th>absences</th>\n",
       "      <th>G3</th>\n",
       "    </tr>\n",
       "  </thead>\n",
       "  <tbody>\n",
       "    <tr>\n",
       "      <th>0</th>\n",
       "      <td>0</td>\n",
       "      <td>0</td>\n",
       "      <td>18</td>\n",
       "      <td>1</td>\n",
       "      <td>0</td>\n",
       "      <td>0</td>\n",
       "      <td>4</td>\n",
       "      <td>4</td>\n",
       "      <td>0</td>\n",
       "      <td>4</td>\n",
       "      <td>...</td>\n",
       "      <td>0</td>\n",
       "      <td>0</td>\n",
       "      <td>4</td>\n",
       "      <td>3</td>\n",
       "      <td>4</td>\n",
       "      <td>1</td>\n",
       "      <td>1</td>\n",
       "      <td>3</td>\n",
       "      <td>4</td>\n",
       "      <td>11</td>\n",
       "    </tr>\n",
       "    <tr>\n",
       "      <th>1</th>\n",
       "      <td>0</td>\n",
       "      <td>0</td>\n",
       "      <td>17</td>\n",
       "      <td>1</td>\n",
       "      <td>0</td>\n",
       "      <td>1</td>\n",
       "      <td>1</td>\n",
       "      <td>1</td>\n",
       "      <td>0</td>\n",
       "      <td>2</td>\n",
       "      <td>...</td>\n",
       "      <td>1</td>\n",
       "      <td>0</td>\n",
       "      <td>5</td>\n",
       "      <td>3</td>\n",
       "      <td>3</td>\n",
       "      <td>1</td>\n",
       "      <td>1</td>\n",
       "      <td>3</td>\n",
       "      <td>2</td>\n",
       "      <td>11</td>\n",
       "    </tr>\n",
       "    <tr>\n",
       "      <th>2</th>\n",
       "      <td>0</td>\n",
       "      <td>0</td>\n",
       "      <td>15</td>\n",
       "      <td>1</td>\n",
       "      <td>1</td>\n",
       "      <td>1</td>\n",
       "      <td>1</td>\n",
       "      <td>1</td>\n",
       "      <td>0</td>\n",
       "      <td>2</td>\n",
       "      <td>...</td>\n",
       "      <td>1</td>\n",
       "      <td>0</td>\n",
       "      <td>4</td>\n",
       "      <td>3</td>\n",
       "      <td>2</td>\n",
       "      <td>2</td>\n",
       "      <td>3</td>\n",
       "      <td>3</td>\n",
       "      <td>6</td>\n",
       "      <td>12</td>\n",
       "    </tr>\n",
       "    <tr>\n",
       "      <th>3</th>\n",
       "      <td>0</td>\n",
       "      <td>0</td>\n",
       "      <td>15</td>\n",
       "      <td>1</td>\n",
       "      <td>0</td>\n",
       "      <td>1</td>\n",
       "      <td>4</td>\n",
       "      <td>2</td>\n",
       "      <td>1</td>\n",
       "      <td>3</td>\n",
       "      <td>...</td>\n",
       "      <td>1</td>\n",
       "      <td>1</td>\n",
       "      <td>3</td>\n",
       "      <td>2</td>\n",
       "      <td>2</td>\n",
       "      <td>1</td>\n",
       "      <td>1</td>\n",
       "      <td>5</td>\n",
       "      <td>0</td>\n",
       "      <td>14</td>\n",
       "    </tr>\n",
       "    <tr>\n",
       "      <th>4</th>\n",
       "      <td>0</td>\n",
       "      <td>0</td>\n",
       "      <td>16</td>\n",
       "      <td>1</td>\n",
       "      <td>0</td>\n",
       "      <td>1</td>\n",
       "      <td>3</td>\n",
       "      <td>3</td>\n",
       "      <td>2</td>\n",
       "      <td>2</td>\n",
       "      <td>...</td>\n",
       "      <td>0</td>\n",
       "      <td>0</td>\n",
       "      <td>4</td>\n",
       "      <td>3</td>\n",
       "      <td>2</td>\n",
       "      <td>1</td>\n",
       "      <td>2</td>\n",
       "      <td>5</td>\n",
       "      <td>0</td>\n",
       "      <td>13</td>\n",
       "    </tr>\n",
       "  </tbody>\n",
       "</table>\n",
       "<p>5 rows × 31 columns</p>\n",
       "</div>"
      ],
      "text/plain": [
       "   school  sex  age  address  famsize  Pstatus  Medu  Fedu  Mjob  Fjob  ...  \\\n",
       "0       0    0   18        1        0        0     4     4     0     4  ...   \n",
       "1       0    0   17        1        0        1     1     1     0     2  ...   \n",
       "2       0    0   15        1        1        1     1     1     0     2  ...   \n",
       "3       0    0   15        1        0        1     4     2     1     3  ...   \n",
       "4       0    0   16        1        0        1     3     3     2     2  ...   \n",
       "\n",
       "   internet  romantic  famrel  freetime  goout  Dalc  Walc  health  absences  \\\n",
       "0         0         0       4         3      4     1     1       3         4   \n",
       "1         1         0       5         3      3     1     1       3         2   \n",
       "2         1         0       4         3      2     2     3       3         6   \n",
       "3         1         1       3         2      2     1     1       5         0   \n",
       "4         0         0       4         3      2     1     2       5         0   \n",
       "\n",
       "   G3  \n",
       "0  11  \n",
       "1  11  \n",
       "2  12  \n",
       "3  14  \n",
       "4  13  \n",
       "\n",
       "[5 rows x 31 columns]"
      ]
     },
     "execution_count": 8,
     "metadata": {},
     "output_type": "execute_result"
    }
   ],
   "source": [
    "df = df.drop(columns = ['G2','G1'], axis = 1) # Remove the other grades as we will not use them to train the model \n",
    "df = df.select_dtypes(exclude=['object'])\n",
    "df.head()"
   ]
  },
  {
   "cell_type": "code",
   "execution_count": 9,
   "metadata": {},
   "outputs": [
    {
     "name": "stdout",
     "output_type": "stream",
     "text": [
      "<class 'pandas.core.frame.DataFrame'>\n",
      "RangeIndex: 649 entries, 0 to 648\n",
      "Data columns (total 31 columns):\n",
      " #   Column      Non-Null Count  Dtype\n",
      "---  ------      --------------  -----\n",
      " 0   school      649 non-null    int32\n",
      " 1   sex         649 non-null    int32\n",
      " 2   age         649 non-null    int64\n",
      " 3   address     649 non-null    int32\n",
      " 4   famsize     649 non-null    int32\n",
      " 5   Pstatus     649 non-null    int32\n",
      " 6   Medu        649 non-null    int64\n",
      " 7   Fedu        649 non-null    int64\n",
      " 8   Mjob        649 non-null    int32\n",
      " 9   Fjob        649 non-null    int32\n",
      " 10  reason      649 non-null    int32\n",
      " 11  guardian    649 non-null    int32\n",
      " 12  traveltime  649 non-null    int64\n",
      " 13  studytime   649 non-null    int64\n",
      " 14  failures    649 non-null    int64\n",
      " 15  schoolsup   649 non-null    int32\n",
      " 16  famsup      649 non-null    int32\n",
      " 17  paid        649 non-null    int32\n",
      " 18  activities  649 non-null    int32\n",
      " 19  nursery     649 non-null    int32\n",
      " 20  higher      649 non-null    int32\n",
      " 21  internet    649 non-null    int32\n",
      " 22  romantic    649 non-null    int32\n",
      " 23  famrel      649 non-null    int64\n",
      " 24  freetime    649 non-null    int64\n",
      " 25  goout       649 non-null    int64\n",
      " 26  Dalc        649 non-null    int64\n",
      " 27  Walc        649 non-null    int64\n",
      " 28  health      649 non-null    int64\n",
      " 29  absences    649 non-null    int64\n",
      " 30  G3          649 non-null    int64\n",
      "dtypes: int32(17), int64(14)\n",
      "memory usage: 114.2 KB\n"
     ]
    }
   ],
   "source": [
    "df.info()"
   ]
  },
  {
   "cell_type": "markdown",
   "metadata": {},
   "source": [
    "We see the dtypes are either int32 or int64"
   ]
  },
  {
   "cell_type": "code",
   "execution_count": 10,
   "metadata": {},
   "outputs": [],
   "source": [
    "def categorize(col):\n",
    "    if col >= 18:\n",
    "        return 'Excel'\n",
    "    elif col >= 14 and col < 18:\n",
    "        return 'Satisfactory'\n",
    "    else:\n",
    "        return 'Unsatisfactory'"
   ]
  },
  {
   "cell_type": "markdown",
   "metadata": {},
   "source": [
    "We categorize the Grades 'G3' as follows: G3>=18 --> \"Excel\", 14<=G3<18 --> \"Satisfactory\", and G3<14 --> \"Unsatisfactory\""
   ]
  },
  {
   "cell_type": "code",
   "execution_count": 11,
   "metadata": {},
   "outputs": [],
   "source": [
    "df['G3'] = df['G3'].apply(lambda x: categorize(x))"
   ]
  },
  {
   "cell_type": "code",
   "execution_count": 12,
   "metadata": {},
   "outputs": [
    {
     "data": {
      "text/plain": [
       "0    Unsatisfactory\n",
       "1    Unsatisfactory\n",
       "2    Unsatisfactory\n",
       "3      Satisfactory\n",
       "4    Unsatisfactory\n",
       "Name: G3, dtype: object"
      ]
     },
     "execution_count": 12,
     "metadata": {},
     "output_type": "execute_result"
    }
   ],
   "source": [
    "df.head()['G3']"
   ]
  },
  {
   "cell_type": "markdown",
   "metadata": {},
   "source": [
    "## Creating pipeline for Scaling and KNN"
   ]
  },
  {
   "cell_type": "code",
   "execution_count": 13,
   "metadata": {},
   "outputs": [],
   "source": [
    "from sklearn.pipeline import Pipeline\n",
    "from sklearn.preprocessing import MinMaxScaler as MMS\n",
    "from sklearn.neighbors import KNeighborsClassifier as KNN"
   ]
  },
  {
   "cell_type": "code",
   "execution_count": 14,
   "metadata": {},
   "outputs": [],
   "source": [
    "y = df['G3']\n",
    "X = df.drop(columns = ['G3'], axis = 1)"
   ]
  },
  {
   "cell_type": "markdown",
   "metadata": {},
   "source": [
    "Temporary pipeline with k = 1 for each distance metric "
   ]
  },
  {
   "cell_type": "code",
   "execution_count": 15,
   "metadata": {},
   "outputs": [],
   "source": [
    "scaling_pipeline_k1_Manhattan = Pipeline([('scale', MMS()),('predict', KNN(n_neighbors = 1,  metric = 'manhattan'))])\n",
    "scaling_pipeline_k1_Euclidean = Pipeline([('scale', MMS()),('predict', KNN(n_neighbors = 1,  metric = 'euclidean'))])\n",
    "scaling_pipeline_k1_Chebyshev = Pipeline([('scale', MMS()),('predict', KNN(n_neighbors = 1,  metric = 'chebyshev'))])"
   ]
  },
  {
   "cell_type": "markdown",
   "metadata": {},
   "source": [
    "## Cross Validation Score"
   ]
  },
  {
   "cell_type": "code",
   "execution_count": 16,
   "metadata": {},
   "outputs": [],
   "source": [
    "from sklearn.model_selection import cross_val_score"
   ]
  },
  {
   "cell_type": "code",
   "execution_count": 17,
   "metadata": {},
   "outputs": [
    {
     "name": "stdout",
     "output_type": "stream",
     "text": [
      "The pipeline with k = 1 and Manhattan metric scored an average accuracy of 62.0%\n"
     ]
    }
   ],
   "source": [
    "scores = cross_val_score(scaling_pipeline_k1_Manhattan, X, y, scoring='accuracy')\n",
    "average_accuracy = np.mean(scores) * 100\n",
    "print(\"The pipeline with k = 1 and Manhattan metric scored an average accuracy of {0:.1f}%\".format(average_accuracy))"
   ]
  },
  {
   "cell_type": "code",
   "execution_count": 18,
   "metadata": {},
   "outputs": [
    {
     "name": "stdout",
     "output_type": "stream",
     "text": [
      "The pipeline with k = 1 and Euclidean metric scored an average accuracy of 62.6%\n"
     ]
    }
   ],
   "source": [
    "scores = cross_val_score(scaling_pipeline_k1_Euclidean, X, y, scoring='accuracy')\n",
    "average_accuracy = np.mean(scores) * 100\n",
    "print(\"The pipeline with k = 1 and Euclidean metric scored an average accuracy of {0:.1f}%\".format(average_accuracy))"
   ]
  },
  {
   "cell_type": "code",
   "execution_count": 19,
   "metadata": {},
   "outputs": [
    {
     "name": "stdout",
     "output_type": "stream",
     "text": [
      "The pipeline with k = 1 and Chebyshev metric scored an average accuracy of 58.9%\n"
     ]
    }
   ],
   "source": [
    "scores = cross_val_score(scaling_pipeline_k1_Chebyshev, X, y, scoring='accuracy')\n",
    "average_accuracy = np.mean(scores) * 100\n",
    "print(\"The pipeline with k = 1 and Chebyshev metric scored an average accuracy of {0:.1f}%\".format(average_accuracy))"
   ]
  },
  {
   "cell_type": "markdown",
   "metadata": {},
   "source": [
    "##### We notice here that the distance metic with the highest average accuracy and with 1 k neighbor is Euclidean with 62.6%"
   ]
  },
  {
   "cell_type": "markdown",
   "metadata": {},
   "source": [
    "# Making the model better"
   ]
  },
  {
   "cell_type": "markdown",
   "metadata": {},
   "source": [
    "Using average scores to see how scores changes as n_neighbors increases for each distance metrics "
   ]
  },
  {
   "cell_type": "markdown",
   "metadata": {},
   "source": [
    "### 1. Manhattan distance"
   ]
  },
  {
   "cell_type": "code",
   "execution_count": 20,
   "metadata": {},
   "outputs": [],
   "source": [
    "avg_scores_manhattan = []\n",
    "for n in range(1,30):\n",
    "    estimator = KNN(n_neighbors=n, metric = 'manhattan')\n",
    "    scores = cross_val_score(estimator, X, y, scoring='accuracy')\n",
    "    avg_scores_manhattan.append(np.mean(scores))"
   ]
  },
  {
   "cell_type": "code",
   "execution_count": 21,
   "metadata": {},
   "outputs": [
    {
     "data": {
      "text/plain": [
       "Text(0, 0.5, 'Avg_scores_manhattan')"
      ]
     },
     "execution_count": 21,
     "metadata": {},
     "output_type": "execute_result"
    },
    {
     "data": {
      "image/png": "[encoded data removed]",
      "text/plain": [
       "<Figure size 720x432 with 1 Axes>"
      ]
     },
     "metadata": {
      "needs_background": "light"
     },
     "output_type": "display_data"
    }
   ],
   "source": [
    "plt.figure(figsize=(10,6))\n",
    "plt.plot(range(1,30),avg_scores_manhattan,color = 'red', marker='o',markerfacecolor='blue',markersize=10)\n",
    "plt.title('Avg_scores_manhattan vs. K Value')\n",
    "plt.xlabel('K')\n",
    "plt.ylabel('Avg_scores_manhattan')"
   ]
  },
  {
   "cell_type": "markdown",
   "metadata": {},
   "source": [
    "### 2. Euclidean distance"
   ]
  },
  {
   "cell_type": "code",
   "execution_count": 22,
   "metadata": {},
   "outputs": [],
   "source": [
    "avg_scores_euclidean = []\n",
    "for n in range(1,30):\n",
    "    estimator = KNN(n_neighbors=n, metric = 'euclidean')\n",
    "    scores = cross_val_score(estimator, X, y, scoring='accuracy')\n",
    "    avg_scores_euclidean.append(np.mean(scores))"
   ]
  },
  {
   "cell_type": "code",
   "execution_count": 23,
   "metadata": {},
   "outputs": [
    {
     "data": {
      "text/plain": [
       "Text(0, 0.5, 'Avg_scores_euclidean')"
      ]
     },
     "execution_count": 23,
     "metadata": {},
     "output_type": "execute_result"
    },
    {
     "data": {
      "image/png": "[encoded data removed]",
      "text/plain": [
       "<Figure size 720x432 with 1 Axes>"
      ]
     },
     "metadata": {
      "needs_background": "light"
     },
     "output_type": "display_data"
    }
   ],
   "source": [
    "plt.figure(figsize=(10,6))\n",
    "plt.plot(range(1,30),avg_scores_euclidean,color = 'red', marker='o',markerfacecolor='blue',markersize=10)\n",
    "plt.title('Avg_scores_euclidean vs. K Value')\n",
    "plt.xlabel('K')\n",
    "plt.ylabel('Avg_scores_euclidean')"
   ]
  },
  {
   "cell_type": "markdown",
   "metadata": {},
   "source": [
    "### 3. Chebyshev distance"
   ]
  },
  {
   "cell_type": "code",
   "execution_count": 24,
   "metadata": {},
   "outputs": [],
   "source": [
    "avg_scores_chebyshev = []\n",
    "for n in range(1,30):\n",
    "    estimator = KNN(n_neighbors=n, metric = 'chebyshev')\n",
    "    scores = cross_val_score(estimator, X, y, scoring='accuracy')\n",
    "    avg_scores_chebyshev.append(np.mean(scores))"
   ]
  },
  {
   "cell_type": "code",
   "execution_count": 25,
   "metadata": {},
   "outputs": [
    {
     "data": {
      "text/plain": [
       "Text(0, 0.5, 'Avg_scores_chebyshev')"
      ]
     },
     "execution_count": 25,
     "metadata": {},
     "output_type": "execute_result"
    },
    {
     "data": {
      "image/png": "[encoded data removed]",
      "text/plain": [
       "<Figure size 720x432 with 1 Axes>"
      ]
     },
     "metadata": {
      "needs_background": "light"
     },
     "output_type": "display_data"
    }
   ],
   "source": [
    "plt.figure(figsize=(10,6))\n",
    "plt.plot(range(1,30),avg_scores_chebyshev,color = 'red', marker='o',markerfacecolor='blue',markersize=10)\n",
    "plt.title('Avg_scores_chebyshev vs. K Value')\n",
    "plt.xlabel('K')\n",
    "plt.ylabel('Avg_scores_chebyshev')"
   ]
  },
  {
   "cell_type": "markdown",
   "metadata": {},
   "source": [
    "##### We notice here that for each distance metic the highest average accuracy is when n_neighbors is 27."
   ]
  },
  {
   "cell_type": "markdown",
   "metadata": {},
   "source": [
    "## Cross validation score Again\n",
    "##### Running all pipelines with n_neighbors = 27"
   ]
  },
  {
   "cell_type": "code",
   "execution_count": 26,
   "metadata": {},
   "outputs": [],
   "source": [
    "scaling_pipeline_k27_Manhattan = Pipeline([('scale', MMS()),('predict', KNN(n_neighbors = 27,  metric = 'manhattan'))])\n",
    "scaling_pipeline_k27_Euclidean = Pipeline([('scale', MMS()),('predict', KNN(n_neighbors = 27,  metric = 'euclidean'))])\n",
    "scaling_pipeline_k27_Chebyshev = Pipeline([('scale', MMS()),('predict', KNN(n_neighbors = 27,  metric = 'chebyshev'))])"
   ]
  },
  {
   "cell_type": "code",
   "execution_count": 27,
   "metadata": {},
   "outputs": [
    {
     "name": "stdout",
     "output_type": "stream",
     "text": [
      "The pipeline with k = 27 and Manhattan metric scored an average accuracy of 67.6%\n"
     ]
    }
   ],
   "source": [
    "scores = cross_val_score(scaling_pipeline_k27_Manhattan, X, y, scoring='accuracy')\n",
    "average_accuracy = np.mean(scores) * 100\n",
    "print(\"The pipeline with k = 27 and Manhattan metric scored an average accuracy of {0:.1f}%\".format(average_accuracy))"
   ]
  },
  {
   "cell_type": "code",
   "execution_count": 28,
   "metadata": {},
   "outputs": [
    {
     "name": "stdout",
     "output_type": "stream",
     "text": [
      "The pipeline with k = 27 and Euclidean metric scored an average accuracy of 70.3%\n"
     ]
    }
   ],
   "source": [
    "scores = cross_val_score(scaling_pipeline_k27_Euclidean, X, y, scoring='accuracy')\n",
    "average_accuracy = np.mean(scores) * 100\n",
    "print(\"The pipeline with k = 27 and Euclidean metric scored an average accuracy of {0:.1f}%\".format(average_accuracy))"
   ]
  },
  {
   "cell_type": "code",
   "execution_count": 29,
   "metadata": {},
   "outputs": [
    {
     "name": "stdout",
     "output_type": "stream",
     "text": [
      "The pipeline with k = 27 and Chebyshev metric scored an average accuracy of 58.6%\n"
     ]
    }
   ],
   "source": [
    "scores = cross_val_score(scaling_pipeline_k27_Chebyshev, X, y, scoring='accuracy')\n",
    "average_accuracy = np.mean(scores) * 100\n",
    "print(\"The pipeline with k = 27 and Chebyshev metric scored an average accuracy of {0:.1f}%\".format(average_accuracy))"
   ]
  },
  {
   "cell_type": "markdown",
   "metadata": {},
   "source": [
    "##### We notice here that the distance metic with the highest average accuracy is Euclidean (k_neighbors = 27) with 70.3%"
   ]
  },
  {
   "cell_type": "markdown",
   "metadata": {},
   "source": [
    "## Predicting data using the optimal pipeline"
   ]
  },
  {
   "cell_type": "code",
   "execution_count": 30,
   "metadata": {},
   "outputs": [],
   "source": [
    "bob = pd.read_csv(\"bob.csv\")"
   ]
  },
  {
   "cell_type": "code",
   "execution_count": 31,
   "metadata": {},
   "outputs": [],
   "source": [
    "for column in bob.select_dtypes(include=['object']):\n",
    "    bob[column] = lb.fit_transform(bob[column])"
   ]
  },
  {
   "cell_type": "code",
   "execution_count": 32,
   "metadata": {},
   "outputs": [
    {
     "data": {
      "text/html": [
       "<div>\n",
       "<style scoped>\n",
       "    .dataframe tbody tr th:only-of-type {\n",
       "        vertical-align: middle;\n",
       "    }\n",
       "\n",
       "    .dataframe tbody tr th {\n",
       "        vertical-align: top;\n",
       "    }\n",
       "\n",
       "    .dataframe thead th {\n",
       "        text-align: right;\n",
       "    }\n",
       "</style>\n",
       "<table border=\"1\" class=\"dataframe\">\n",
       "  <thead>\n",
       "    <tr style=\"text-align: right;\">\n",
       "      <th></th>\n",
       "      <th>school</th>\n",
       "      <th>sex</th>\n",
       "      <th>age</th>\n",
       "      <th>address</th>\n",
       "      <th>famsize</th>\n",
       "      <th>Pstatus</th>\n",
       "      <th>Medu</th>\n",
       "      <th>Fedu</th>\n",
       "      <th>Mjob</th>\n",
       "      <th>Fjob</th>\n",
       "      <th>...</th>\n",
       "      <th>higher</th>\n",
       "      <th>internet</th>\n",
       "      <th>romantic</th>\n",
       "      <th>famrel</th>\n",
       "      <th>freetime</th>\n",
       "      <th>goout</th>\n",
       "      <th>Dalc</th>\n",
       "      <th>Walc</th>\n",
       "      <th>health</th>\n",
       "      <th>absences</th>\n",
       "    </tr>\n",
       "  </thead>\n",
       "  <tbody>\n",
       "    <tr>\n",
       "      <th>0</th>\n",
       "      <td>0</td>\n",
       "      <td>0</td>\n",
       "      <td>18</td>\n",
       "      <td>0</td>\n",
       "      <td>0</td>\n",
       "      <td>0</td>\n",
       "      <td>1</td>\n",
       "      <td>1</td>\n",
       "      <td>0</td>\n",
       "      <td>0</td>\n",
       "      <td>...</td>\n",
       "      <td>0</td>\n",
       "      <td>0</td>\n",
       "      <td>0</td>\n",
       "      <td>4</td>\n",
       "      <td>3</td>\n",
       "      <td>2</td>\n",
       "      <td>1</td>\n",
       "      <td>2</td>\n",
       "      <td>4</td>\n",
       "      <td>0</td>\n",
       "    </tr>\n",
       "  </tbody>\n",
       "</table>\n",
       "<p>1 rows × 30 columns</p>\n",
       "</div>"
      ],
      "text/plain": [
       "   school  sex  age  address  famsize  Pstatus  Medu  Fedu  Mjob  Fjob  ...  \\\n",
       "0       0    0   18        0        0        0     1     1     0     0  ...   \n",
       "\n",
       "   higher  internet  romantic  famrel  freetime  goout  Dalc  Walc  health  \\\n",
       "0       0         0         0       4         3      2     1     2       4   \n",
       "\n",
       "   absences  \n",
       "0         0  \n",
       "\n",
       "[1 rows x 30 columns]"
      ]
     },
     "execution_count": 32,
     "metadata": {},
     "output_type": "execute_result"
    }
   ],
   "source": [
    "bob.head()                              #New data for prediction"
   ]
  },
  {
   "cell_type": "code",
   "execution_count": 33,
   "metadata": {},
   "outputs": [
    {
     "name": "stdout",
     "output_type": "stream",
     "text": [
      "<class 'pandas.core.frame.DataFrame'>\n",
      "RangeIndex: 1 entries, 0 to 0\n",
      "Data columns (total 30 columns):\n",
      " #   Column      Non-Null Count  Dtype\n",
      "---  ------      --------------  -----\n",
      " 0   school      1 non-null      int32\n",
      " 1   sex         1 non-null      int32\n",
      " 2   age         1 non-null      int64\n",
      " 3   address     1 non-null      int32\n",
      " 4   famsize     1 non-null      int32\n",
      " 5   Pstatus     1 non-null      int32\n",
      " 6   Medu        1 non-null      int64\n",
      " 7   Fedu        1 non-null      int64\n",
      " 8   Mjob        1 non-null      int32\n",
      " 9   Fjob        1 non-null      int32\n",
      " 10  reason      1 non-null      int32\n",
      " 11  guardian    1 non-null      int32\n",
      " 12  traveltime  1 non-null      int64\n",
      " 13  studytime   1 non-null      int64\n",
      " 14  failures    1 non-null      int64\n",
      " 15  schoolsup   1 non-null      int32\n",
      " 16  famsup      1 non-null      int32\n",
      " 17  paid        1 non-null      int32\n",
      " 18  activities  1 non-null      int32\n",
      " 19  nursery     1 non-null      int32\n",
      " 20  higher      1 non-null      int32\n",
      " 21  internet    1 non-null      int32\n",
      " 22  romantic    1 non-null      int32\n",
      " 23  famrel      1 non-null      int64\n",
      " 24  freetime    1 non-null      int64\n",
      " 25  goout       1 non-null      int64\n",
      " 26  Dalc        1 non-null      int64\n",
      " 27  Walc        1 non-null      int64\n",
      " 28  health      1 non-null      int64\n",
      " 29  absences    1 non-null      int64\n",
      "dtypes: int32(17), int64(13)\n",
      "memory usage: 300.0 bytes\n"
     ]
    }
   ],
   "source": [
    "bob.info()"
   ]
  },
  {
   "cell_type": "code",
   "execution_count": 40,
   "metadata": {},
   "outputs": [],
   "source": [
    "model1 = scaling_pipeline_k27_Manhattan.fit(X,y)\n",
    "model2 = scaling_pipeline_k27_Euclidean.fit(X,y)\n",
    "model3 = scaling_pipeline_k27_Chebyshev.fit(X,y)"
   ]
  },
  {
   "cell_type": "code",
   "execution_count": 45,
   "metadata": {},
   "outputs": [
    {
     "name": "stdout",
     "output_type": "stream",
     "text": [
      "Prediction for manhattan, k = 27 is Unsatisfactory\n",
      "Prediction for euclidean, k = 27 is Unsatisfactory\n",
      "Prediction for chebyshev, k = 27 is Unsatisfactory\n"
     ]
    }
   ],
   "source": [
    "bob_predicted_manhattan = model1.predict(bob)\n",
    "bob_predicted_euclidean = model2.predict(bob)\n",
    "bob_predicted_chebyshev = model3.predict(bob)\n",
    "print(\"Prediction for manhattan, k = 27 is {[0]}\".format(bob_predicted_manhattan))\n",
    "print(\"Prediction for euclidean, k = 27 is {[0]}\".format(bob_predicted_euclidean))\n",
    "print(\"Prediction for chebyshev, k = 27 is {[0]}\".format(bob_predicted_chebyshev))"
   ]
  },
  {
   "cell_type": "markdown",
   "metadata": {},
   "source": [
    "It looks like Bob was classified to be 'Unsatisfactory' from our KNN algorithm which used k_neighbors as 27. "
   ]
  },
  {
   "cell_type": "markdown",
   "metadata": {},
   "source": [
    "We can conclude that both the distance metric and optimal k_neighbors were necessary for the increased accuracy of our model. "
   ]
  },
  {
   "cell_type": "markdown",
   "metadata": {},
   "source": [
    "The model increased by 7.7% when we changed k from 1 to 27 using the Euclidean distance."
   ]
  },
  {
   "cell_type": "code",
   "execution_count": null,
   "metadata": {},
   "outputs": [],
   "source": []
  }
 ],
 "metadata": {
  "kernelspec": {
   "display_name": "Python 3",
   "language": "python",
   "name": "python3"
  },
  "language_info": {
   "codemirror_mode": {
    "name": "ipython",
    "version": 3
   },
   "file_extension": ".py",
   "mimetype": "text/x-python",
   "name": "python",
   "nbconvert_exporter": "python",
   "pygments_lexer": "ipython3",
   "version": "3.7.3"
  }
 },
 "nbformat": 4,
 "nbformat_minor": 4
}
